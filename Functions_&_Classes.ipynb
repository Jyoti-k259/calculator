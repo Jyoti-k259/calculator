{
  "nbformat": 4,
  "nbformat_minor": 0,
  "metadata": {
    "colab": {
      "name": "Copy of Assignment_3_Classes.ipynb",
      "provenance": [],
      "collapsed_sections": [],
      "include_colab_link": true
    },
    "kernelspec": {
      "name": "python3",
      "display_name": "Python 3"
    },
    "language_info": {
      "name": "python"
    }
  },
  "cells": [
    {
      "cell_type": "markdown",
      "metadata": {
        "id": "view-in-github",
        "colab_type": "text"
      },
      "source": [
        "<a href=\"https://colab.research.google.com/github/Jyoti-k259/calculator/blob/master/Functions_%26_Classes.ipynb\" target=\"_parent\"><img src=\"https://colab.research.google.com/assets/colab-badge.svg\" alt=\"Open In Colab\"/></a>"
      ]
    },
    {
      "cell_type": "markdown",
      "metadata": {
        "id": "EDCxasjKlUKM"
      },
      "source": [
        "##Assignment - 3\n",
        "\n",
        "**Answer the following questions, download the .ipynb file and submit the file.**\n",
        "* Name : Jyoti Kumari\n",
        "* Sesion : Spring\n",
        "* CRN :   27960\n",
        "* Total Points: 50"
      ]
    },
    {
      "cell_type": "markdown",
      "metadata": {
        "id": "Rwo422ngrMme"
      },
      "source": [
        "Question#1 : 20 Points\n",
        "\n",
        "Build the class and name it as \"Purchase\" with the following requirements:\n",
        "\n",
        "    Attributes :\n",
        "    item_name (string)\n",
        "    item_price (int)\n",
        "    item_quantity (int)\n",
        "    \n",
        "    Default constructor: With the following default values\n",
        "    Item_name = \"none\", \n",
        "    item_price = 0, \n",
        "    item_quantity = 0\n",
        "\n",
        "    Method:\n",
        "    item_cost()\n",
        "\n",
        "    This method should calculate the item cost example :\n",
        "    Coca Cola 10 @ $1 = $10\n",
        "\n",
        "If there are more than one item then you should add up the cost.\n",
        "    Item 1\n",
        "    Enter the item name: Chocolate \n",
        "    Enter the item price:3\n",
        "    Enter the item quantity:1\n",
        "\n",
        "    Item 2\n",
        "    Enter the item name: Cola\n",
        "    Enter the item price: 1\n",
        "    Enter the item quantity: 10\n",
        "\n",
        "(3) Add the costs of the two items together and output the total cost. \n",
        "\n",
        "    Ex:\n",
        "    TOTAL COST\n",
        "    Chocolate 1 @ $3 = $3\n",
        "    Cola 10 @ $1 = $10\n",
        "    Total: $13"
      ]
    },
    {
      "cell_type": "code",
      "metadata": {
        "id": "kaW0d1uSpskH"
      },
      "source": [
        "class Purchase:\n",
        "    # default constructor\n",
        "    def __init__(self):\n",
        "        self.item_name = None\n",
        "        self.item_price = 0\n",
        "        self.item_quantity = 0\n",
        "\n",
        "    def item_cost(self):\n",
        "        names = []\n",
        "        cost = []\n",
        "        qty = []\n",
        "        num_items = int(input(\"Enter the number of items: \"))\n",
        "        for i in range(num_items):\n",
        "            print(\"Item \" + str(i + 1))\n",
        "            names.append(input(\"Enter the item name: \"))\n",
        "            cost.append(int(input(\"Enter the item price: \")))\n",
        "            qty.append(int(input(\"Enter the item quantity: \")))\n",
        "\n",
        "        print(\"TOTAL COST\")\n",
        "        total_cost = 0\n",
        "        for i in range(len(names)):\n",
        "            cost2 = qty[i] * cost[i]\n",
        "            print(names[i] + \" \" + str(qty[i]) + \" @ $\" + str(cost[i]) + \" = $\" + str(cost2))\n",
        "            total_cost += cost2\n",
        "        print(\"Total: $\" + str(total_cost))\n"
      ],
      "execution_count": 54,
      "outputs": []
    },
    {
      "cell_type": "code",
      "metadata": {
        "id": "aPnte2jypsg4",
        "colab": {
          "base_uri": "https://localhost:8080/"
        },
        "outputId": "c42a811c-acfe-48b5-86a7-7689ca5c934d"
      },
      "source": [
        "Drink = Purchase()\n",
        "Drink.item_cost()\n"
      ],
      "execution_count": 55,
      "outputs": [
        {
          "output_type": "stream",
          "name": "stdout",
          "text": [
            "Enter the number of items: 1\n",
            "Item 1\n",
            "Enter the item name: cola\n",
            "Enter the item price: 1\n",
            "Enter the item quantity: 1\n",
            "TOTAL COST\n",
            "cola 1 @ $1 = $1\n",
            "Total: $1\n"
          ]
        }
      ]
    },
    {
      "cell_type": "markdown",
      "metadata": {
        "id": "xxz8augHib6N"
      },
      "source": [
        "Question #2\n",
        "Point : 10\n",
        "\n",
        "Write a class called Calculator that performs basic functions of a calculator: add, subtract, multiply, divide, and clear. \n",
        "\n"
      ]
    },
    {
      "cell_type": "code",
      "metadata": {
        "id": "5Ce-X87Jpr_H",
        "colab": {
          "base_uri": "https://localhost:8080/"
        },
        "outputId": "3e72a667-3d97-41c0-9a3f-36658c14d88c"
      },
      "source": [
        "class Calculator:\n",
        "    # default constructor\n",
        "    def __init__(self,num1,num2):\n",
        "      self.num1 = num1\n",
        "      self.num2 = num2\n",
        "\n",
        "    def add(self):\n",
        "        return self.num1 + self.num2\n",
        "\n",
        "    def sub(self):\n",
        "        return self.num1 - self.num2\n",
        "\n",
        "    def mul(self):\n",
        "        return self.num1 * self.num2\n",
        "\n",
        "    def div(self):\n",
        "        if num1 == 0:\n",
        "            print(\"not divisible by 0\")\n",
        "            return\n",
        "        return self.num1 * self.num2\n",
        "\n",
        "    def clear(self):\n",
        "        self.state = 0\n",
        "        return self.state\n",
        "\n",
        "num1 = int(input(\"Enter first Number: \"))\n",
        "num2 = int(input(\"Enter Second Number: \"))\n",
        "obj = Calculator(num1,num2)\n",
        "choice = 1\n",
        "\n",
        "while choice !=0:\n",
        "    print(\"1. Add\")\n",
        "    print(\"2. Subtraction\")\n",
        "    print(\"3. Multiplication\")\n",
        "    print(\"4. Division\")\n",
        "    print(\"5. Clear\")\n",
        "    print(\"0. Exit\")\n",
        "    choice = int(input(\"Enter operation choice: \"))\n",
        "    if choice == 1:\n",
        "        print(\"Result: \", obj.add())\n",
        "    elif choice == 2:\n",
        "        print(\"Result: \", obj.sub())\n",
        "    elif choice == 3:\n",
        "        print(\"Result: \", obj.mul())\n",
        "    elif choice == 4:\n",
        "        print(\"Result: \", round(obj.div(), 2))\n",
        "    elif choice == 5:\n",
        "        print(\"Result: \", obj.clear())\n",
        "    elif choice == 0:\n",
        "        print(\"Exiting!\")\n",
        "    else:\n",
        "        print(\"Invalid choice!!\")\n"
      ],
      "execution_count": 60,
      "outputs": [
        {
          "output_type": "stream",
          "name": "stdout",
          "text": [
            "Enter first Number: 4\n",
            "Enter Second Number: 5\n",
            "1. Add\n",
            "2. Subtraction\n",
            "3. Multiplication\n",
            "4. Division\n",
            "5. Clear\n",
            "0. Exit\n",
            "Enter operation choice: 1\n",
            "Result:  9\n",
            "1. Add\n",
            "2. Subtraction\n",
            "3. Multiplication\n",
            "4. Division\n",
            "5. Clear\n",
            "0. Exit\n",
            "Enter operation choice: 0\n",
            "Exiting!\n"
          ]
        }
      ]
    },
    {
      "cell_type": "markdown",
      "metadata": {
        "id": "1A0bmhmGitTC"
      },
      "source": [
        "Question#3\n",
        "\n",
        "Points : 10\n",
        "\n",
        "Define the Student class that has two attributes: name and gpa\n",
        "\n",
        "Implement the following instance methods:\n",
        "\n",
        "A constructor that sets name to \"Defualt name\"(What ever you want to give) and gpa to 1.0\n",
        "set_name(self, name) - set student's name to parameter name\n",
        "get_name(self) - return student's name\n",
        "set_gpa(self, gpa) - set student's gpa to parameter gpa\n",
        "get_gpa(self) - return student's gpa\n",
        "Ex. If a new Student object is created, the default output is:\n",
        "\n",
        "Default name/1.0\n",
        "Ex. If the student's name is set to \"Frank\" and the gpa is set to 3.7, the output becomes:\n",
        "\n",
        "Frank/3.7"
      ]
    },
    {
      "cell_type": "code",
      "source": [
        "class Student():\n",
        "    def __init__(self):\n",
        "        self.name = \"Jyoti\"\n",
        "        self.gpa = 4.0\n",
        "\n",
        "    def get_name(self):\n",
        "        return self.name\n",
        "\n",
        "    def get_gpa(self):\n",
        "        return self.gpa\n",
        "\n",
        "    def set_name(self, name):\n",
        "        self.name = name\n",
        "\n",
        "    def set_gpa(self,gpa):\n",
        "        self.gpa = gpa\n",
        "\n",
        "if __name__ == \"__main__\":\n",
        "        \n",
        "      first_student = Student()\n",
        "      print(first_student.get_name(),'/',first_student.get_gpa())\n",
        "      \n",
        "      first_student.set_name('alex')\n",
        "      first_student.set_gpa(3.9)\n",
        "      print(first_student.get_name(), '/', first_student.get_gpa())"
      ],
      "metadata": {
        "colab": {
          "base_uri": "https://localhost:8080/"
        },
        "id": "XYHacaKUB8ac",
        "outputId": "557e0ad1-34fa-426d-bad3-abcb5212bcea"
      },
      "execution_count": 63,
      "outputs": [
        {
          "output_type": "stream",
          "name": "stdout",
          "text": [
            "Jyoti / 4.0\n",
            "alex / 3.9\n"
          ]
        }
      ]
    },
    {
      "cell_type": "markdown",
      "metadata": {
        "id": "NetjI26fjKfC"
      },
      "source": [
        "Question#4\n",
        "\n",
        "Points : 10\n",
        "\n",
        "Build a class called BankAccount that manages checking and savings accounts. \n",
        "\n",
        "    Attributes: \n",
        "              customer name, \n",
        "              the customer's savings account balance, \n",
        "              and the customer's checking account balance.\n",
        "    \n",
        "    Constructor with parameters (self, new_name, checking_balance, savings_balance) \n",
        "    \n",
        "    deposit_checking(self, amount) - add parameter amount to the checking account balance (only if positive)\n",
        "\n",
        "    deposit_savings(self, amount) - add parameter amount to the savings account balance (only if positive)\n",
        "\n",
        "\n",
        "    withdraw_checking(self, amount) - subtract parameter amount from the checking account balance (only if positive)\n",
        "\n",
        "\n",
        "    withdraw_savings(self, amount) - subtract parameter amount from the savings account balance (only if positive)\n",
        "\n",
        "\n",
        "    transfer_to_savings(self, amount) - subtract parameter amount from the checking account balance and add to the savings account balance (only if positive)"
      ]
    },
    {
      "cell_type": "code",
      "source": [
        "class BankAccount:\n",
        "\n",
        "#constructor\n",
        "  def __init__(self,new_name,checking_balance,savings_balance):\n",
        "\n",
        "   self.__name=new_name;\n",
        "\n",
        "   self.__checkingBalance=checking_balance;\n",
        "\n",
        "   self.__savingsBalance=savings_balance;\n",
        "\n",
        "  \n",
        "#deposit_checking() function\n",
        "\n",
        "  def deposit_checking(self,amount):\n",
        "\n",
        "    if(amount>=0):\n",
        "\n",
        "      self.__checkingBalance += amount\n",
        "\n",
        "    else:\n",
        "\n",
        "      print('Cannot accept negative amount')\n",
        "\n",
        "#withdraw_checking() function\n",
        "  def withdraw_checking(self,amount):\n",
        "\n",
        "      if(amount>=0):\n",
        "\n",
        "       if self.__checkingBalance >= amount:\n",
        "\n",
        "         self.__checkingBalance -= amount\n",
        "\n",
        "       else:\n",
        "         print('Not sufficient Balance')\n",
        "      else:\n",
        "       print('Cannot withdraw amount in negative')\n",
        "\n",
        "#withdraw_savings(self, amount)\n",
        "  def withdraw_savings(self,amount):\n",
        "\n",
        "      if(amount>=0):\n",
        "\n",
        "       if self.__savingsBalance >= amount:\n",
        "\n",
        "         self.__savingsBalance -= amount\n",
        "\n",
        "       else:\n",
        "         print('Not sufficient Balance')\n",
        "      else:\n",
        "       print('Cannot withdraw amount in negative')\n",
        "\n",
        "#transfer_to_savings() function\n",
        "  def transfer_to_savings(self, amount):\n",
        "      if(amount>=0):\n",
        "\n",
        "       if self.__checkingBalance>=amount:\n",
        "\n",
        "          self.__checkingBalance-=amount\n",
        "\n",
        "          self.__savingsBalance+=amount\n",
        "\n",
        "       else:\n",
        "\n",
        "         print('Not sufficient Balance')\n",
        "\n",
        "      else:\n",
        "\n",
        "       print('Cannot transfer less than 1') \n",
        "#getters  \n",
        "  def get_checkingBalance(self):\n",
        "    return self.__checkingBalance\n",
        "\n",
        "   \n",
        "  def get_savingsBalance(self):\n",
        "\n",
        "     return self.__savingsBalance\n",
        "\n",
        "\n",
        " \n",
        "\n",
        "     "
      ],
      "metadata": {
        "id": "l4Sd_YpzmKm7"
      },
      "execution_count": 64,
      "outputs": []
    },
    {
      "cell_type": "code",
      "source": [
        "\n",
        "account_mike = BankAccount(\"Mike \",100000,5000)\n",
        "print(\"Account created\")\n",
        "account_mike.transfer_to_savings(400)\n",
        "print(\"Checking Account Balance:\\t $\",account_mike.get_checkingBalance())\n",
        "print(\"Saving Account Balance:\\t\\t $\",account_mike.get_savingsBalance())\n"
      ],
      "metadata": {
        "id": "OTySxPOWmKj0",
        "colab": {
          "base_uri": "https://localhost:8080/"
        },
        "outputId": "8f1eccfd-f4b2-434c-d0c3-c6832635d07d"
      },
      "execution_count": 65,
      "outputs": [
        {
          "output_type": "stream",
          "name": "stdout",
          "text": [
            "Account created\n",
            "Checking Account Balance:\t $ 99600\n",
            "Saving Account Balance:\t\t $ 5400\n"
          ]
        }
      ]
    }
  ]
}